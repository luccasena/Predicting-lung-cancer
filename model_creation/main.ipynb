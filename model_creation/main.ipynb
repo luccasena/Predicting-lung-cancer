{
 "cells": [
  {
   "cell_type": "markdown",
   "metadata": {},
   "source": [
    "## Desenvolvimento de um Modelo de Machine Learning"
   ]
  },
  {
   "cell_type": "markdown",
   "metadata": {},
   "source": [
    "#### Importação da base de dados:\n",
    "#### Análise dos Dados:\n",
    "- Valores nulos ou faltantes: Não há\n",
    "- Verificar Inconsistências\n",
    "- Verificar Outliers;\n",
    "- Correlação dos Dados com a Classe;\n",
    "#### Preparação dos Dados:\n",
    "- Escalonamento:\n",
    "- Padronização:\n",
    "- Undersampling ou Oversampling:\n",
    "- Selecionando as melhores Colunas:\n",
    "- Detecção de Colinearidad\n",
    "#### Treinamento dos Algoritmos:\n",
    "- Random Forest Classifier:\n",
    "- Logistic Regression:\n",
    "- Naive Bayes:\n",
    "- K-Nearest Neighbors (KNN)\n",
    "#### Otimização dos Modelos:\n",
    "- GridSearch:\n",
    "- K-Cross Validation\n",
    "#### Importação do MELHOR modelo:\n"
   ]
  },
  {
   "cell_type": "markdown",
   "metadata": {},
   "source": [
    "### 1. Importação das Bibliotecas e do Dataframe"
   ]
  },
  {
   "cell_type": "code",
   "execution_count": 88,
   "metadata": {},
   "outputs": [],
   "source": [
    "import pandas as pd\n",
    "import numpy as np\n",
    "import matplotlib.pyplot as plt\n",
    "import seaborn as sn"
   ]
  },
  {
   "cell_type": "code",
   "execution_count": 89,
   "metadata": {},
   "outputs": [
    {
     "data": {
      "application/vnd.microsoft.datawrangler.viewer.v0+json": {
       "columns": [
        {
         "name": "index",
         "rawType": "int64",
         "type": "integer"
        },
        {
         "name": "AGE",
         "rawType": "int64",
         "type": "integer"
        },
        {
         "name": "GENDER",
         "rawType": "int64",
         "type": "integer"
        },
        {
         "name": "SMOKING",
         "rawType": "int64",
         "type": "integer"
        },
        {
         "name": "FINGER_DISCOLORATION",
         "rawType": "int64",
         "type": "integer"
        },
        {
         "name": "MENTAL_STRESS",
         "rawType": "int64",
         "type": "integer"
        },
        {
         "name": "EXPOSURE_TO_POLLUTION",
         "rawType": "int64",
         "type": "integer"
        },
        {
         "name": "LONG_TERM_ILLNESS",
         "rawType": "int64",
         "type": "integer"
        },
        {
         "name": "ENERGY_LEVEL",
         "rawType": "float64",
         "type": "float"
        },
        {
         "name": "IMMUNE_WEAKNESS",
         "rawType": "int64",
         "type": "integer"
        },
        {
         "name": "BREATHING_ISSUE",
         "rawType": "int64",
         "type": "integer"
        },
        {
         "name": "ALCOHOL_CONSUMPTION",
         "rawType": "int64",
         "type": "integer"
        },
        {
         "name": "THROAT_DISCOMFORT",
         "rawType": "int64",
         "type": "integer"
        },
        {
         "name": "OXYGEN_SATURATION",
         "rawType": "float64",
         "type": "float"
        },
        {
         "name": "CHEST_TIGHTNESS",
         "rawType": "int64",
         "type": "integer"
        },
        {
         "name": "FAMILY_HISTORY",
         "rawType": "int64",
         "type": "integer"
        },
        {
         "name": "SMOKING_FAMILY_HISTORY",
         "rawType": "int64",
         "type": "integer"
        },
        {
         "name": "STRESS_IMMUNE",
         "rawType": "int64",
         "type": "integer"
        },
        {
         "name": "PULMONARY_DISEASE",
         "rawType": "object",
         "type": "string"
        }
       ],
       "conversionMethod": "pd.DataFrame",
       "ref": "c9ade103-9cd9-4121-871d-0551413a7e6a",
       "rows": [
        [
         "0",
         "68",
         "1",
         "1",
         "1",
         "1",
         "1",
         "0",
         "57.83117781335825",
         "0",
         "0",
         "1",
         "1",
         "95.97728696426717",
         "1",
         "0",
         "0",
         "0",
         "NO"
        ],
        [
         "1",
         "81",
         "1",
         "1",
         "0",
         "0",
         "1",
         "1",
         "47.69483541541461",
         "1",
         "1",
         "0",
         "1",
         "97.18448348233956",
         "0",
         "0",
         "0",
         "0",
         "YES"
        ],
        [
         "2",
         "58",
         "1",
         "1",
         "0",
         "0",
         "0",
         "0",
         "59.577435069797176",
         "0",
         "1",
         "1",
         "0",
         "94.97493934339695",
         "0",
         "0",
         "0",
         "0",
         "NO"
        ],
        [
         "3",
         "44",
         "0",
         "1",
         "0",
         "1",
         "1",
         "0",
         "59.78576650470848",
         "0",
         "1",
         "0",
         "1",
         "95.18790047132244",
         "0",
         "0",
         "0",
         "0",
         "YES"
        ],
        [
         "4",
         "72",
         "0",
         "1",
         "1",
         "1",
         "1",
         "1",
         "59.73394123504865",
         "0",
         "1",
         "0",
         "1",
         "93.50300804345753",
         "0",
         "0",
         "0",
         "0",
         "YES"
        ],
        [
         "5",
         "37",
         "1",
         "1",
         "1",
         "1",
         "1",
         "1",
         "57.6842852327755",
         "0",
         "1",
         "1",
         "1",
         "94.0571514727336",
         "1",
         "0",
         "0",
         "0",
         "YES"
        ],
        [
         "6",
         "50",
         "0",
         "1",
         "1",
         "1",
         "0",
         "1",
         "52.64702183899712",
         "1",
         "1",
         "1",
         "0",
         "96.77359814532971",
         "0",
         "0",
         "0",
         "1",
         "NO"
        ],
        [
         "7",
         "68",
         "0",
         "1",
         "1",
         "1",
         "0",
         "1",
         "53.30645128343283",
         "0",
         "0",
         "0",
         "1",
         "95.0190182364373",
         "0",
         "0",
         "0",
         "0",
         "NO"
        ],
        [
         "8",
         "48",
         "0",
         "1",
         "1",
         "0",
         "1",
         "1",
         "64.27278865489339",
         "1",
         "1",
         "0",
         "1",
         "98.53937879896264",
         "1",
         "0",
         "0",
         "0",
         "YES"
        ],
        [
         "9",
         "52",
         "0",
         "0",
         "0",
         "1",
         "1",
         "1",
         "58.319318845729626",
         "0",
         "1",
         "0",
         "1",
         "96.05509653586503",
         "0",
         "0",
         "0",
         "0",
         "NO"
        ],
        [
         "10",
         "40",
         "0",
         "1",
         "1",
         "0",
         "1",
         "0",
         "58.90471199734036",
         "0",
         "1",
         "1",
         "1",
         "93.47892252031708",
         "0",
         "0",
         "0",
         "0",
         "YES"
        ],
        [
         "11",
         "40",
         "1",
         "1",
         "0",
         "0",
         "1",
         "1",
         "55.6919185392475",
         "0",
         "1",
         "0",
         "1",
         "98.64493184400068",
         "0",
         "0",
         "0",
         "0",
         "YES"
        ],
        [
         "12",
         "53",
         "1",
         "1",
         "0",
         "0",
         "1",
         "0",
         "60.2115986881058",
         "0",
         "0",
         "1",
         "1",
         "93.03663091099278",
         "1",
         "1",
         "1",
         "0",
         "NO"
        ],
        [
         "13",
         "82",
         "1",
         "0",
         "1",
         "0",
         "1",
         "0",
         "62.67144550855564",
         "0",
         "0",
         "1",
         "1",
         "94.60359977245872",
         "1",
         "0",
         "0",
         "0",
         "NO"
        ],
        [
         "14",
         "65",
         "1",
         "1",
         "0",
         "1",
         "0",
         "0",
         "49.97626353499763",
         "1",
         "1",
         "0",
         "1",
         "95.44014924196874",
         "0",
         "0",
         "0",
         "1",
         "YES"
        ],
        [
         "15",
         "69",
         "0",
         "0",
         "1",
         "0",
         "0",
         "0",
         "59.74197827606266",
         "0",
         "1",
         "1",
         "1",
         "95.65030381489284",
         "0",
         "1",
         "0",
         "0",
         "NO"
        ],
        [
         "16",
         "53",
         "0",
         "0",
         "0",
         "1",
         "0",
         "1",
         "53.19132909378341",
         "0",
         "0",
         "0",
         "1",
         "94.25143079556646",
         "1",
         "1",
         "0",
         "0",
         "NO"
        ],
        [
         "17",
         "32",
         "1",
         "1",
         "1",
         "0",
         "1",
         "0",
         "57.51082665146831",
         "0",
         "1",
         "1",
         "1",
         "95.19584170883564",
         "1",
         "0",
         "0",
         "0",
         "YES"
        ],
        [
         "18",
         "51",
         "0",
         "1",
         "1",
         "0",
         "0",
         "0",
         "61.68189237622277",
         "0",
         "1",
         "1",
         "0",
         "97.18042497829629",
         "0",
         "0",
         "0",
         "0",
         "NO"
        ],
        [
         "19",
         "82",
         "0",
         "0",
         "0",
         "0",
         "0",
         "0",
         "43.38638965079405",
         "0",
         "1",
         "0",
         "1",
         "97.20160831459611",
         "1",
         "1",
         "0",
         "0",
         "NO"
        ],
        [
         "20",
         "31",
         "1",
         "1",
         "1",
         "0",
         "1",
         "0",
         "46.32944130550997",
         "1",
         "0",
         "0",
         "1",
         "97.91503442638444",
         "0",
         "0",
         "0",
         "0",
         "NO"
        ],
        [
         "21",
         "53",
         "0",
         "1",
         "0",
         "1",
         "1",
         "1",
         "49.72485559985447",
         "0",
         "1",
         "1",
         "1",
         "93.8767168503977",
         "1",
         "0",
         "0",
         "0",
         "YES"
        ],
        [
         "22",
         "73",
         "1",
         "0",
         "1",
         "1",
         "1",
         "0",
         "49.157244162231045",
         "0",
         "1",
         "0",
         "1",
         "95.62046113756988",
         "1",
         "0",
         "0",
         "0",
         "NO"
        ],
        [
         "23",
         "59",
         "1",
         "1",
         "1",
         "0",
         "0",
         "0",
         "53.70120879277772",
         "0",
         "1",
         "0",
         "0",
         "95.86078826769864",
         "0",
         "0",
         "0",
         "0",
         "NO"
        ],
        [
         "24",
         "67",
         "0",
         "0",
         "1",
         "1",
         "1",
         "0",
         "68.53904702769594",
         "0",
         "1",
         "0",
         "0",
         "92.43990349631537",
         "0",
         "0",
         "0",
         "0",
         "NO"
        ],
        [
         "25",
         "31",
         "0",
         "1",
         "1",
         "0",
         "0",
         "0",
         "64.42757508300257",
         "0",
         "0",
         "0",
         "1",
         "94.71389747934458",
         "0",
         "0",
         "0",
         "0",
         "NO"
        ],
        [
         "26",
         "50",
         "1",
         "0",
         "1",
         "1",
         "0",
         "1",
         "50.3552815932222",
         "1",
         "1",
         "0",
         "1",
         "96.0077614191748",
         "1",
         "0",
         "0",
         "1",
         "NO"
        ],
        [
         "27",
         "62",
         "1",
         "1",
         "0",
         "0",
         "0",
         "0",
         "61.95106688070869",
         "1",
         "1",
         "0",
         "1",
         "94.94991888310976",
         "0",
         "1",
         "1",
         "0",
         "YES"
        ],
        [
         "28",
         "41",
         "0",
         "1",
         "0",
         "1",
         "0",
         "0",
         "54.65421861049014",
         "0",
         "1",
         "0",
         "1",
         "94.14570481073828",
         "1",
         "1",
         "1",
         "0",
         "YES"
        ],
        [
         "29",
         "51",
         "1",
         "1",
         "0",
         "1",
         "0",
         "0",
         "57.74999427978203",
         "1",
         "1",
         "1",
         "0",
         "95.73376763857596",
         "1",
         "1",
         "1",
         "1",
         "YES"
        ],
        [
         "30",
         "73",
         "1",
         "0",
         "0",
         "0",
         "1",
         "0",
         "47.15312537383558",
         "0",
         "1",
         "0",
         "1",
         "96.98877038671762",
         "0",
         "0",
         "0",
         "0",
         "NO"
        ],
        [
         "31",
         "54",
         "1",
         "1",
         "1",
         "1",
         "0",
         "1",
         "44.43453159164471",
         "1",
         "1",
         "0",
         "1",
         "95.46138995611749",
         "1",
         "0",
         "0",
         "1",
         "YES"
        ],
        [
         "32",
         "78",
         "0",
         "1",
         "0",
         "1",
         "1",
         "0",
         "60.85878827044768",
         "1",
         "1",
         "0",
         "0",
         "91.92427944181576",
         "0",
         "0",
         "0",
         "1",
         "YES"
        ],
        [
         "33",
         "56",
         "1",
         "1",
         "1",
         "1",
         "0",
         "1",
         "55.26276649024068",
         "0",
         "1",
         "0",
         "0",
         "96.96076020412718",
         "1",
         "0",
         "0",
         "0",
         "NO"
        ],
        [
         "34",
         "71",
         "0",
         "1",
         "0",
         "1",
         "0",
         "1",
         "59.18077722450691",
         "0",
         "0",
         "0",
         "0",
         "93.23535139061184",
         "0",
         "0",
         "0",
         "0",
         "NO"
        ],
        [
         "35",
         "57",
         "1",
         "1",
         "1",
         "1",
         "1",
         "0",
         "67.74998075235224",
         "0",
         "0",
         "0",
         "1",
         "93.38173316805272",
         "1",
         "0",
         "0",
         "0",
         "NO"
        ],
        [
         "36",
         "45",
         "0",
         "1",
         "0",
         "1",
         "1",
         "1",
         "53.08959971623965",
         "0",
         "1",
         "0",
         "1",
         "95.53071467029216",
         "1",
         "0",
         "0",
         "0",
         "YES"
        ],
        [
         "37",
         "44",
         "1",
         "1",
         "0",
         "0",
         "1",
         "1",
         "53.16291683198003",
         "0",
         "1",
         "0",
         "1",
         "95.55092211056808",
         "1",
         "0",
         "0",
         "0",
         "YES"
        ],
        [
         "38",
         "76",
         "0",
         "1",
         "0",
         "1",
         "1",
         "1",
         "69.14928991663355",
         "1",
         "1",
         "1",
         "1",
         "94.1642676108969",
         "1",
         "1",
         "1",
         "1",
         "YES"
        ],
        [
         "39",
         "80",
         "0",
         "1",
         "0",
         "0",
         "1",
         "0",
         "55.13591424307228",
         "0",
         "1",
         "1",
         "1",
         "96.24386758597592",
         "1",
         "0",
         "0",
         "0",
         "YES"
        ],
        [
         "40",
         "73",
         "0",
         "1",
         "0",
         "1",
         "1",
         "1",
         "48.57354200992715",
         "0",
         "1",
         "0",
         "0",
         "95.1079125537342",
         "1",
         "0",
         "0",
         "0",
         "NO"
        ],
        [
         "41",
         "84",
         "1",
         "0",
         "0",
         "1",
         "1",
         "0",
         "60.88545727434068",
         "1",
         "1",
         "1",
         "1",
         "92.81582584077444",
         "1",
         "1",
         "0",
         "1",
         "YES"
        ],
        [
         "42",
         "81",
         "1",
         "1",
         "1",
         "1",
         "1",
         "0",
         "53.09859084580634",
         "1",
         "0",
         "0",
         "1",
         "93.61558337573588",
         "1",
         "0",
         "0",
         "1",
         "NO"
        ],
        [
         "43",
         "32",
         "1",
         "1",
         "1",
         "0",
         "0",
         "1",
         "48.41889425807054",
         "0",
         "1",
         "1",
         "0",
         "94.66735826717046",
         "0",
         "1",
         "1",
         "0",
         "NO"
        ],
        [
         "44",
         "66",
         "0",
         "1",
         "1",
         "1",
         "1",
         "1",
         "55.71749279963527",
         "1",
         "0",
         "0",
         "1",
         "95.17111464717756",
         "0",
         "1",
         "1",
         "1",
         "YES"
        ],
        [
         "45",
         "80",
         "1",
         "0",
         "1",
         "0",
         "0",
         "0",
         "61.613488168863306",
         "1",
         "1",
         "0",
         "1",
         "94.29461599015862",
         "1",
         "0",
         "0",
         "0",
         "NO"
        ],
        [
         "46",
         "36",
         "0",
         "0",
         "1",
         "1",
         "0",
         "1",
         "45.72654315175426",
         "0",
         "1",
         "1",
         "1",
         "92.3342966249282",
         "1",
         "1",
         "0",
         "0",
         "NO"
        ],
        [
         "47",
         "50",
         "1",
         "0",
         "1",
         "1",
         "1",
         "1",
         "45.54051376184567",
         "0",
         "1",
         "0",
         "0",
         "94.04667148945504",
         "0",
         "1",
         "0",
         "0",
         "NO"
        ],
        [
         "48",
         "38",
         "0",
         "1",
         "1",
         "0",
         "0",
         "0",
         "54.35952752095592",
         "1",
         "1",
         "0",
         "0",
         "96.0876540119508",
         "0",
         "0",
         "0",
         "0",
         "NO"
        ],
        [
         "49",
         "68",
         "0",
         "1",
         "0",
         "1",
         "0",
         "0",
         "46.19973857618089",
         "1",
         "0",
         "0",
         "0",
         "95.19385664314775",
         "1",
         "1",
         "1",
         "1",
         "NO"
        ]
       ],
       "shape": {
        "columns": 18,
        "rows": 5000
       }
      },
      "text/html": [
       "<div>\n",
       "<style scoped>\n",
       "    .dataframe tbody tr th:only-of-type {\n",
       "        vertical-align: middle;\n",
       "    }\n",
       "\n",
       "    .dataframe tbody tr th {\n",
       "        vertical-align: top;\n",
       "    }\n",
       "\n",
       "    .dataframe thead th {\n",
       "        text-align: right;\n",
       "    }\n",
       "</style>\n",
       "<table border=\"1\" class=\"dataframe\">\n",
       "  <thead>\n",
       "    <tr style=\"text-align: right;\">\n",
       "      <th></th>\n",
       "      <th>AGE</th>\n",
       "      <th>GENDER</th>\n",
       "      <th>SMOKING</th>\n",
       "      <th>FINGER_DISCOLORATION</th>\n",
       "      <th>MENTAL_STRESS</th>\n",
       "      <th>EXPOSURE_TO_POLLUTION</th>\n",
       "      <th>LONG_TERM_ILLNESS</th>\n",
       "      <th>ENERGY_LEVEL</th>\n",
       "      <th>IMMUNE_WEAKNESS</th>\n",
       "      <th>BREATHING_ISSUE</th>\n",
       "      <th>ALCOHOL_CONSUMPTION</th>\n",
       "      <th>THROAT_DISCOMFORT</th>\n",
       "      <th>OXYGEN_SATURATION</th>\n",
       "      <th>CHEST_TIGHTNESS</th>\n",
       "      <th>FAMILY_HISTORY</th>\n",
       "      <th>SMOKING_FAMILY_HISTORY</th>\n",
       "      <th>STRESS_IMMUNE</th>\n",
       "      <th>PULMONARY_DISEASE</th>\n",
       "    </tr>\n",
       "  </thead>\n",
       "  <tbody>\n",
       "    <tr>\n",
       "      <th>0</th>\n",
       "      <td>68</td>\n",
       "      <td>1</td>\n",
       "      <td>1</td>\n",
       "      <td>1</td>\n",
       "      <td>1</td>\n",
       "      <td>1</td>\n",
       "      <td>0</td>\n",
       "      <td>57.831178</td>\n",
       "      <td>0</td>\n",
       "      <td>0</td>\n",
       "      <td>1</td>\n",
       "      <td>1</td>\n",
       "      <td>95.977287</td>\n",
       "      <td>1</td>\n",
       "      <td>0</td>\n",
       "      <td>0</td>\n",
       "      <td>0</td>\n",
       "      <td>NO</td>\n",
       "    </tr>\n",
       "    <tr>\n",
       "      <th>1</th>\n",
       "      <td>81</td>\n",
       "      <td>1</td>\n",
       "      <td>1</td>\n",
       "      <td>0</td>\n",
       "      <td>0</td>\n",
       "      <td>1</td>\n",
       "      <td>1</td>\n",
       "      <td>47.694835</td>\n",
       "      <td>1</td>\n",
       "      <td>1</td>\n",
       "      <td>0</td>\n",
       "      <td>1</td>\n",
       "      <td>97.184483</td>\n",
       "      <td>0</td>\n",
       "      <td>0</td>\n",
       "      <td>0</td>\n",
       "      <td>0</td>\n",
       "      <td>YES</td>\n",
       "    </tr>\n",
       "    <tr>\n",
       "      <th>2</th>\n",
       "      <td>58</td>\n",
       "      <td>1</td>\n",
       "      <td>1</td>\n",
       "      <td>0</td>\n",
       "      <td>0</td>\n",
       "      <td>0</td>\n",
       "      <td>0</td>\n",
       "      <td>59.577435</td>\n",
       "      <td>0</td>\n",
       "      <td>1</td>\n",
       "      <td>1</td>\n",
       "      <td>0</td>\n",
       "      <td>94.974939</td>\n",
       "      <td>0</td>\n",
       "      <td>0</td>\n",
       "      <td>0</td>\n",
       "      <td>0</td>\n",
       "      <td>NO</td>\n",
       "    </tr>\n",
       "    <tr>\n",
       "      <th>3</th>\n",
       "      <td>44</td>\n",
       "      <td>0</td>\n",
       "      <td>1</td>\n",
       "      <td>0</td>\n",
       "      <td>1</td>\n",
       "      <td>1</td>\n",
       "      <td>0</td>\n",
       "      <td>59.785767</td>\n",
       "      <td>0</td>\n",
       "      <td>1</td>\n",
       "      <td>0</td>\n",
       "      <td>1</td>\n",
       "      <td>95.187900</td>\n",
       "      <td>0</td>\n",
       "      <td>0</td>\n",
       "      <td>0</td>\n",
       "      <td>0</td>\n",
       "      <td>YES</td>\n",
       "    </tr>\n",
       "    <tr>\n",
       "      <th>4</th>\n",
       "      <td>72</td>\n",
       "      <td>0</td>\n",
       "      <td>1</td>\n",
       "      <td>1</td>\n",
       "      <td>1</td>\n",
       "      <td>1</td>\n",
       "      <td>1</td>\n",
       "      <td>59.733941</td>\n",
       "      <td>0</td>\n",
       "      <td>1</td>\n",
       "      <td>0</td>\n",
       "      <td>1</td>\n",
       "      <td>93.503008</td>\n",
       "      <td>0</td>\n",
       "      <td>0</td>\n",
       "      <td>0</td>\n",
       "      <td>0</td>\n",
       "      <td>YES</td>\n",
       "    </tr>\n",
       "    <tr>\n",
       "      <th>...</th>\n",
       "      <td>...</td>\n",
       "      <td>...</td>\n",
       "      <td>...</td>\n",
       "      <td>...</td>\n",
       "      <td>...</td>\n",
       "      <td>...</td>\n",
       "      <td>...</td>\n",
       "      <td>...</td>\n",
       "      <td>...</td>\n",
       "      <td>...</td>\n",
       "      <td>...</td>\n",
       "      <td>...</td>\n",
       "      <td>...</td>\n",
       "      <td>...</td>\n",
       "      <td>...</td>\n",
       "      <td>...</td>\n",
       "      <td>...</td>\n",
       "      <td>...</td>\n",
       "    </tr>\n",
       "    <tr>\n",
       "      <th>4995</th>\n",
       "      <td>32</td>\n",
       "      <td>0</td>\n",
       "      <td>1</td>\n",
       "      <td>1</td>\n",
       "      <td>0</td>\n",
       "      <td>0</td>\n",
       "      <td>1</td>\n",
       "      <td>60.700696</td>\n",
       "      <td>1</td>\n",
       "      <td>1</td>\n",
       "      <td>1</td>\n",
       "      <td>1</td>\n",
       "      <td>94.012495</td>\n",
       "      <td>0</td>\n",
       "      <td>1</td>\n",
       "      <td>1</td>\n",
       "      <td>0</td>\n",
       "      <td>YES</td>\n",
       "    </tr>\n",
       "    <tr>\n",
       "      <th>4996</th>\n",
       "      <td>80</td>\n",
       "      <td>0</td>\n",
       "      <td>1</td>\n",
       "      <td>1</td>\n",
       "      <td>1</td>\n",
       "      <td>1</td>\n",
       "      <td>1</td>\n",
       "      <td>50.751741</td>\n",
       "      <td>0</td>\n",
       "      <td>1</td>\n",
       "      <td>1</td>\n",
       "      <td>1</td>\n",
       "      <td>94.394968</td>\n",
       "      <td>0</td>\n",
       "      <td>0</td>\n",
       "      <td>0</td>\n",
       "      <td>0</td>\n",
       "      <td>YES</td>\n",
       "    </tr>\n",
       "    <tr>\n",
       "      <th>4997</th>\n",
       "      <td>51</td>\n",
       "      <td>1</td>\n",
       "      <td>0</td>\n",
       "      <td>0</td>\n",
       "      <td>1</td>\n",
       "      <td>0</td>\n",
       "      <td>0</td>\n",
       "      <td>61.063496</td>\n",
       "      <td>1</td>\n",
       "      <td>0</td>\n",
       "      <td>0</td>\n",
       "      <td>0</td>\n",
       "      <td>98.108901</td>\n",
       "      <td>0</td>\n",
       "      <td>0</td>\n",
       "      <td>0</td>\n",
       "      <td>1</td>\n",
       "      <td>NO</td>\n",
       "    </tr>\n",
       "    <tr>\n",
       "      <th>4998</th>\n",
       "      <td>76</td>\n",
       "      <td>1</td>\n",
       "      <td>0</td>\n",
       "      <td>1</td>\n",
       "      <td>0</td>\n",
       "      <td>0</td>\n",
       "      <td>0</td>\n",
       "      <td>48.662872</td>\n",
       "      <td>0</td>\n",
       "      <td>1</td>\n",
       "      <td>0</td>\n",
       "      <td>1</td>\n",
       "      <td>95.577773</td>\n",
       "      <td>1</td>\n",
       "      <td>0</td>\n",
       "      <td>0</td>\n",
       "      <td>0</td>\n",
       "      <td>NO</td>\n",
       "    </tr>\n",
       "    <tr>\n",
       "      <th>4999</th>\n",
       "      <td>33</td>\n",
       "      <td>0</td>\n",
       "      <td>1</td>\n",
       "      <td>0</td>\n",
       "      <td>0</td>\n",
       "      <td>1</td>\n",
       "      <td>1</td>\n",
       "      <td>58.245188</td>\n",
       "      <td>0</td>\n",
       "      <td>1</td>\n",
       "      <td>1</td>\n",
       "      <td>1</td>\n",
       "      <td>94.206934</td>\n",
       "      <td>1</td>\n",
       "      <td>0</td>\n",
       "      <td>0</td>\n",
       "      <td>0</td>\n",
       "      <td>NO</td>\n",
       "    </tr>\n",
       "  </tbody>\n",
       "</table>\n",
       "<p>5000 rows × 18 columns</p>\n",
       "</div>"
      ],
      "text/plain": [
       "      AGE  GENDER  SMOKING  FINGER_DISCOLORATION  MENTAL_STRESS  \\\n",
       "0      68       1        1                     1              1   \n",
       "1      81       1        1                     0              0   \n",
       "2      58       1        1                     0              0   \n",
       "3      44       0        1                     0              1   \n",
       "4      72       0        1                     1              1   \n",
       "...   ...     ...      ...                   ...            ...   \n",
       "4995   32       0        1                     1              0   \n",
       "4996   80       0        1                     1              1   \n",
       "4997   51       1        0                     0              1   \n",
       "4998   76       1        0                     1              0   \n",
       "4999   33       0        1                     0              0   \n",
       "\n",
       "      EXPOSURE_TO_POLLUTION  LONG_TERM_ILLNESS  ENERGY_LEVEL  IMMUNE_WEAKNESS  \\\n",
       "0                         1                  0     57.831178                0   \n",
       "1                         1                  1     47.694835                1   \n",
       "2                         0                  0     59.577435                0   \n",
       "3                         1                  0     59.785767                0   \n",
       "4                         1                  1     59.733941                0   \n",
       "...                     ...                ...           ...              ...   \n",
       "4995                      0                  1     60.700696                1   \n",
       "4996                      1                  1     50.751741                0   \n",
       "4997                      0                  0     61.063496                1   \n",
       "4998                      0                  0     48.662872                0   \n",
       "4999                      1                  1     58.245188                0   \n",
       "\n",
       "      BREATHING_ISSUE  ALCOHOL_CONSUMPTION  THROAT_DISCOMFORT  \\\n",
       "0                   0                    1                  1   \n",
       "1                   1                    0                  1   \n",
       "2                   1                    1                  0   \n",
       "3                   1                    0                  1   \n",
       "4                   1                    0                  1   \n",
       "...               ...                  ...                ...   \n",
       "4995                1                    1                  1   \n",
       "4996                1                    1                  1   \n",
       "4997                0                    0                  0   \n",
       "4998                1                    0                  1   \n",
       "4999                1                    1                  1   \n",
       "\n",
       "      OXYGEN_SATURATION  CHEST_TIGHTNESS  FAMILY_HISTORY  \\\n",
       "0             95.977287                1               0   \n",
       "1             97.184483                0               0   \n",
       "2             94.974939                0               0   \n",
       "3             95.187900                0               0   \n",
       "4             93.503008                0               0   \n",
       "...                 ...              ...             ...   \n",
       "4995          94.012495                0               1   \n",
       "4996          94.394968                0               0   \n",
       "4997          98.108901                0               0   \n",
       "4998          95.577773                1               0   \n",
       "4999          94.206934                1               0   \n",
       "\n",
       "      SMOKING_FAMILY_HISTORY  STRESS_IMMUNE PULMONARY_DISEASE  \n",
       "0                          0              0                NO  \n",
       "1                          0              0               YES  \n",
       "2                          0              0                NO  \n",
       "3                          0              0               YES  \n",
       "4                          0              0               YES  \n",
       "...                      ...            ...               ...  \n",
       "4995                       1              0               YES  \n",
       "4996                       0              0               YES  \n",
       "4997                       0              1                NO  \n",
       "4998                       0              0                NO  \n",
       "4999                       0              0                NO  \n",
       "\n",
       "[5000 rows x 18 columns]"
      ]
     },
     "execution_count": 89,
     "metadata": {},
     "output_type": "execute_result"
    }
   ],
   "source": [
    "df_cancer = pd.read_csv(\"data/Lung Cancer Dataset.csv\")\n",
    "df_cancer"
   ]
  },
  {
   "cell_type": "markdown",
   "metadata": {},
   "source": [
    "### 2. Análise dos Dados"
   ]
  },
  {
   "cell_type": "code",
   "execution_count": 90,
   "metadata": {},
   "outputs": [
    {
     "name": "stdout",
     "output_type": "stream",
     "text": [
      "<class 'pandas.core.frame.DataFrame'>\n",
      "RangeIndex: 5000 entries, 0 to 4999\n",
      "Data columns (total 18 columns):\n",
      " #   Column                  Non-Null Count  Dtype  \n",
      "---  ------                  --------------  -----  \n",
      " 0   AGE                     5000 non-null   int64  \n",
      " 1   GENDER                  5000 non-null   int64  \n",
      " 2   SMOKING                 5000 non-null   int64  \n",
      " 3   FINGER_DISCOLORATION    5000 non-null   int64  \n",
      " 4   MENTAL_STRESS           5000 non-null   int64  \n",
      " 5   EXPOSURE_TO_POLLUTION   5000 non-null   int64  \n",
      " 6   LONG_TERM_ILLNESS       5000 non-null   int64  \n",
      " 7   ENERGY_LEVEL            5000 non-null   float64\n",
      " 8   IMMUNE_WEAKNESS         5000 non-null   int64  \n",
      " 9   BREATHING_ISSUE         5000 non-null   int64  \n",
      " 10  ALCOHOL_CONSUMPTION     5000 non-null   int64  \n",
      " 11  THROAT_DISCOMFORT       5000 non-null   int64  \n",
      " 12  OXYGEN_SATURATION       5000 non-null   float64\n",
      " 13  CHEST_TIGHTNESS         5000 non-null   int64  \n",
      " 14  FAMILY_HISTORY          5000 non-null   int64  \n",
      " 15  SMOKING_FAMILY_HISTORY  5000 non-null   int64  \n",
      " 16  STRESS_IMMUNE           5000 non-null   int64  \n",
      " 17  PULMONARY_DISEASE       5000 non-null   object \n",
      "dtypes: float64(2), int64(15), object(1)\n",
      "memory usage: 703.3+ KB\n"
     ]
    }
   ],
   "source": [
    "df_cancer.info()"
   ]
  },
  {
   "cell_type": "markdown",
   "metadata": {},
   "source": [
    "- 0 means no\n",
    "- 1 means yes"
   ]
  },
  {
   "cell_type": "code",
   "execution_count": 91,
   "metadata": {},
   "outputs": [
    {
     "data": {
      "text/plain": [
       "count    5000.000000\n",
       "mean       57.222800\n",
       "std        15.799224\n",
       "min        30.000000\n",
       "25%        44.000000\n",
       "50%        57.000000\n",
       "75%        71.000000\n",
       "max        84.000000\n",
       "Name: AGE, dtype: float64"
      ]
     },
     "execution_count": 91,
     "metadata": {},
     "output_type": "execute_result"
    }
   ],
   "source": [
    "df_cancer['AGE'].describe()"
   ]
  },
  {
   "cell_type": "markdown",
   "metadata": {},
   "source": [
    "Column of Age has consistent datas: \n",
    "- age between 30 and 84; \n",
    "- Not null data or outliers;"
   ]
  },
  {
   "cell_type": "code",
   "execution_count": 92,
   "metadata": {},
   "outputs": [
    {
     "data": {
      "text/plain": [
       "count    5000.000000\n",
       "mean        0.501200\n",
       "std         0.500049\n",
       "min         0.000000\n",
       "25%         0.000000\n",
       "50%         1.000000\n",
       "75%         1.000000\n",
       "max         1.000000\n",
       "Name: GENDER, dtype: float64"
      ]
     },
     "execution_count": 92,
     "metadata": {},
     "output_type": "execute_result"
    }
   ],
   "source": [
    "df_cancer['GENDER'].describe()"
   ]
  },
  {
   "cell_type": "markdown",
   "metadata": {},
   "source": [
    "Column of Gender has consistent datas: \n",
    "- gender = 0 means man and 1 woman; \n",
    "- Not null data or outliers"
   ]
  },
  {
   "cell_type": "code",
   "execution_count": 93,
   "metadata": {},
   "outputs": [
    {
     "data": {
      "text/plain": [
       "count    5000.000000\n",
       "mean        0.666400\n",
       "std         0.471546\n",
       "min         0.000000\n",
       "25%         0.000000\n",
       "50%         1.000000\n",
       "75%         1.000000\n",
       "max         1.000000\n",
       "Name: SMOKING, dtype: float64"
      ]
     },
     "execution_count": 93,
     "metadata": {},
     "output_type": "execute_result"
    }
   ],
   "source": [
    "df_cancer['SMOKING'].describe()"
   ]
  },
  {
   "cell_type": "markdown",
   "metadata": {},
   "source": [
    "Column of Smoking has consistent datas: \n",
    "- Not null data or outliers;"
   ]
  },
  {
   "cell_type": "code",
   "execution_count": 94,
   "metadata": {},
   "outputs": [
    {
     "data": {
      "text/plain": [
       "count    5000.0000\n",
       "mean        0.6012\n",
       "std         0.4897\n",
       "min         0.0000\n",
       "25%         0.0000\n",
       "50%         1.0000\n",
       "75%         1.0000\n",
       "max         1.0000\n",
       "Name: FINGER_DISCOLORATION, dtype: float64"
      ]
     },
     "execution_count": 94,
     "metadata": {},
     "output_type": "execute_result"
    }
   ],
   "source": [
    "df_cancer['FINGER_DISCOLORATION'].describe()"
   ]
  },
  {
   "cell_type": "markdown",
   "metadata": {},
   "source": [
    "Column of Finger Discoloarion has consistent datas: \n",
    "- Not null data or outliers;"
   ]
  },
  {
   "cell_type": "code",
   "execution_count": 95,
   "metadata": {},
   "outputs": [
    {
     "data": {
      "text/plain": [
       "count    5000.000000\n",
       "mean        0.539800\n",
       "std         0.498463\n",
       "min         0.000000\n",
       "25%         0.000000\n",
       "50%         1.000000\n",
       "75%         1.000000\n",
       "max         1.000000\n",
       "Name: MENTAL_STRESS, dtype: float64"
      ]
     },
     "execution_count": 95,
     "metadata": {},
     "output_type": "execute_result"
    }
   ],
   "source": [
    "df_cancer['MENTAL_STRESS'].describe()"
   ]
  },
  {
   "cell_type": "markdown",
   "metadata": {},
   "source": [
    "Column of Finger Mental Stress has consistent datas: \n",
    "- Not null data or outliers;"
   ]
  },
  {
   "cell_type": "code",
   "execution_count": 96,
   "metadata": {},
   "outputs": [
    {
     "data": {
      "text/plain": [
       "count    5000.000000\n",
       "mean        0.516000\n",
       "std         0.499794\n",
       "min         0.000000\n",
       "25%         0.000000\n",
       "50%         1.000000\n",
       "75%         1.000000\n",
       "max         1.000000\n",
       "Name: EXPOSURE_TO_POLLUTION, dtype: float64"
      ]
     },
     "execution_count": 96,
     "metadata": {},
     "output_type": "execute_result"
    }
   ],
   "source": [
    "df_cancer['EXPOSURE_TO_POLLUTION'].describe()"
   ]
  },
  {
   "cell_type": "markdown",
   "metadata": {},
   "source": [
    "Column of Finger Exposure to Pollution has consistent datas: \n",
    "- Not null data or outliers;"
   ]
  },
  {
   "cell_type": "code",
   "execution_count": 97,
   "metadata": {},
   "outputs": [
    {
     "data": {
      "text/plain": [
       "count    5000.000000\n",
       "mean       55.032043\n",
       "std         7.913083\n",
       "min        23.258308\n",
       "25%        49.440685\n",
       "50%        55.050421\n",
       "75%        60.323320\n",
       "max        83.046971\n",
       "Name: ENERGY_LEVEL, dtype: float64"
      ]
     },
     "execution_count": 97,
     "metadata": {},
     "output_type": "execute_result"
    }
   ],
   "source": [
    "df_cancer['ENERGY_LEVEL'].describe()"
   ]
  },
  {
   "cell_type": "markdown",
   "metadata": {},
   "source": [
    "Column of Energy Level to Pollution has consistent datas: \n",
    "- Not null data or outliers;"
   ]
  },
  {
   "cell_type": "code",
   "execution_count": 98,
   "metadata": {},
   "outputs": [
    {
     "data": {
      "text/plain": [
       "count    5000.000000\n",
       "mean        0.394800\n",
       "std         0.488857\n",
       "min         0.000000\n",
       "25%         0.000000\n",
       "50%         0.000000\n",
       "75%         1.000000\n",
       "max         1.000000\n",
       "Name: IMMUNE_WEAKNESS, dtype: float64"
      ]
     },
     "execution_count": 98,
     "metadata": {},
     "output_type": "execute_result"
    }
   ],
   "source": [
    "df_cancer['IMMUNE_WEAKNESS'].describe()"
   ]
  },
  {
   "cell_type": "code",
   "execution_count": 99,
   "metadata": {},
   "outputs": [
    {
     "data": {
      "text/plain": [
       "count    5000.00000\n",
       "mean        0.80040\n",
       "std         0.39974\n",
       "min         0.00000\n",
       "25%         1.00000\n",
       "50%         1.00000\n",
       "75%         1.00000\n",
       "max         1.00000\n",
       "Name: BREATHING_ISSUE, dtype: float64"
      ]
     },
     "execution_count": 99,
     "metadata": {},
     "output_type": "execute_result"
    }
   ],
   "source": [
    "df_cancer['BREATHING_ISSUE'].describe()"
   ]
  },
  {
   "cell_type": "code",
   "execution_count": 100,
   "metadata": {},
   "outputs": [
    {
     "data": {
      "text/plain": [
       "count    5000.000000\n",
       "mean        0.354200\n",
       "std         0.478318\n",
       "min         0.000000\n",
       "25%         0.000000\n",
       "50%         0.000000\n",
       "75%         1.000000\n",
       "max         1.000000\n",
       "Name: ALCOHOL_CONSUMPTION, dtype: float64"
      ]
     },
     "execution_count": 100,
     "metadata": {},
     "output_type": "execute_result"
    }
   ],
   "source": [
    "df_cancer['ALCOHOL_CONSUMPTION'].describe()"
   ]
  },
  {
   "cell_type": "code",
   "execution_count": 101,
   "metadata": {},
   "outputs": [
    {
     "data": {
      "text/plain": [
       "count    5000.000000\n",
       "mean        0.698200\n",
       "std         0.459085\n",
       "min         0.000000\n",
       "25%         0.000000\n",
       "50%         1.000000\n",
       "75%         1.000000\n",
       "max         1.000000\n",
       "Name: THROAT_DISCOMFORT, dtype: float64"
      ]
     },
     "execution_count": 101,
     "metadata": {},
     "output_type": "execute_result"
    }
   ],
   "source": [
    "df_cancer['THROAT_DISCOMFORT'].describe()"
   ]
  },
  {
   "cell_type": "code",
   "execution_count": 102,
   "metadata": {},
   "outputs": [
    {
     "data": {
      "text/plain": [
       "count    5000.000000\n",
       "mean       94.991029\n",
       "std         1.481048\n",
       "min        89.923133\n",
       "25%        93.973176\n",
       "50%        94.974073\n",
       "75%        95.989272\n",
       "max        99.795786\n",
       "Name: OXYGEN_SATURATION, dtype: float64"
      ]
     },
     "execution_count": 102,
     "metadata": {},
     "output_type": "execute_result"
    }
   ],
   "source": [
    "df_cancer['OXYGEN_SATURATION'].describe()"
   ]
  },
  {
   "cell_type": "code",
   "execution_count": 103,
   "metadata": {},
   "outputs": [
    {
     "data": {
      "text/plain": [
       "count    5000.000000\n",
       "mean        0.600600\n",
       "std         0.489824\n",
       "min         0.000000\n",
       "25%         0.000000\n",
       "50%         1.000000\n",
       "75%         1.000000\n",
       "max         1.000000\n",
       "Name: CHEST_TIGHTNESS, dtype: float64"
      ]
     },
     "execution_count": 103,
     "metadata": {},
     "output_type": "execute_result"
    }
   ],
   "source": [
    "df_cancer['CHEST_TIGHTNESS'].describe()"
   ]
  },
  {
   "cell_type": "code",
   "execution_count": 104,
   "metadata": {},
   "outputs": [
    {
     "data": {
      "text/plain": [
       "count    5000.000000\n",
       "mean        0.301800\n",
       "std         0.459085\n",
       "min         0.000000\n",
       "25%         0.000000\n",
       "50%         0.000000\n",
       "75%         1.000000\n",
       "max         1.000000\n",
       "Name: FAMILY_HISTORY, dtype: float64"
      ]
     },
     "execution_count": 104,
     "metadata": {},
     "output_type": "execute_result"
    }
   ],
   "source": [
    "df_cancer['FAMILY_HISTORY'].describe()"
   ]
  },
  {
   "cell_type": "code",
   "execution_count": 105,
   "metadata": {},
   "outputs": [
    {
     "data": {
      "text/plain": [
       "count    5000.000000\n",
       "mean        0.204000\n",
       "std         0.403009\n",
       "min         0.000000\n",
       "25%         0.000000\n",
       "50%         0.000000\n",
       "75%         0.000000\n",
       "max         1.000000\n",
       "Name: SMOKING_FAMILY_HISTORY, dtype: float64"
      ]
     },
     "execution_count": 105,
     "metadata": {},
     "output_type": "execute_result"
    }
   ],
   "source": [
    "df_cancer['SMOKING_FAMILY_HISTORY'].describe()"
   ]
  },
  {
   "cell_type": "code",
   "execution_count": 106,
   "metadata": {},
   "outputs": [
    {
     "data": {
      "text/plain": [
       "count    5000.000000\n",
       "mean        0.209600\n",
       "std         0.407064\n",
       "min         0.000000\n",
       "25%         0.000000\n",
       "50%         0.000000\n",
       "75%         0.000000\n",
       "max         1.000000\n",
       "Name: STRESS_IMMUNE, dtype: float64"
      ]
     },
     "execution_count": 106,
     "metadata": {},
     "output_type": "execute_result"
    }
   ],
   "source": [
    "df_cancer['STRESS_IMMUNE'].describe()"
   ]
  },
  {
   "cell_type": "code",
   "execution_count": 107,
   "metadata": {},
   "outputs": [
    {
     "data": {
      "text/plain": [
       "PULMONARY_DISEASE\n",
       "NO     2963\n",
       "YES    2037\n",
       "dtype: int64"
      ]
     },
     "execution_count": 107,
     "metadata": {},
     "output_type": "execute_result"
    }
   ],
   "source": [
    "df_cancer.groupby('PULMONARY_DISEASE').size()"
   ]
  },
  {
   "cell_type": "code",
   "execution_count": null,
   "metadata": {},
   "outputs": [],
   "source": [
    "def plot_corr(df, size=35):\n",
    "    corr = df.corr()    \n",
    "    fig, ax = plt.subplots(figsize = (size, size))\n",
    "    ax.matshow(corr)  \n",
    "    plt.xticks(range(len(corr.columns)), corr.columns) \n",
    "    plt.yticks(range(len(corr.columns)), corr.columns) "
   ]
  },
  {
   "cell_type": "code",
   "execution_count": 114,
   "metadata": {},
   "outputs": [
    {
     "data": {
      "image/png": "[encoded data removed]",
      "text/plain": [
       "<Figure size 3500x3500 with 1 Axes>"
      ]
     },
     "metadata": {},
     "output_type": "display_data"
    }
   ],
   "source": [
    "plot_corr(df_cancer.drop(columns='PULMONARY_DISEASE'))"
   ]
  },
  {
   "cell_type": "markdown",
   "metadata": {},
   "source": [
    "### 3. Preparação dos Dados"
   ]
  },
  {
   "cell_type": "code",
   "execution_count": 109,
   "metadata": {},
   "outputs": [
    {
     "data": {
      "text/plain": [
       "(array([[68.,  1.,  1., ...,  0.,  0.,  0.],\n",
       "        [81.,  1.,  1., ...,  0.,  0.,  0.],\n",
       "        [58.,  1.,  1., ...,  0.,  0.,  0.],\n",
       "        ...,\n",
       "        [51.,  1.,  0., ...,  0.,  0.,  1.],\n",
       "        [76.,  1.,  0., ...,  0.,  0.,  0.],\n",
       "        [33.,  0.,  1., ...,  0.,  0.,  0.]], shape=(5000, 17)),\n",
       " array(['NO', 'YES', 'NO', ..., 'NO', 'NO', 'NO'],\n",
       "       shape=(5000,), dtype=object))"
      ]
     },
     "execution_count": 109,
     "metadata": {},
     "output_type": "execute_result"
    }
   ],
   "source": [
    "x_features = df_cancer.iloc[:, 0:17].values\n",
    "y_class = df_cancer.iloc[:, 17].values\n",
    "\n",
    "x_features, y_class"
   ]
  },
  {
   "cell_type": "code",
   "execution_count": 110,
   "metadata": {},
   "outputs": [],
   "source": [
    "from sklearn.preprocessing import LabelEncoder"
   ]
  },
  {
   "cell_type": "code",
   "execution_count": 111,
   "metadata": {},
   "outputs": [],
   "source": [
    "encoder = LabelEncoder()\n",
    "\n",
    "x_features[:, 0] = encoder.fit_transform(x_features[:, 0])\n",
    "x_features[:, 7] = encoder.fit_transform(x_features[:, 7])\n",
    "x_features[:, 12] = encoder.fit_transform(x_features[:, 12])\n",
    "y_class = encoder.fit_transform(y_class)\n"
   ]
  },
  {
   "cell_type": "code",
   "execution_count": 63,
   "metadata": {},
   "outputs": [
    {
     "data": {
      "text/plain": [
       "(array([[38.,  1.,  1., ...,  0.,  0.,  0.],\n",
       "        [51.,  1.,  1., ...,  0.,  0.,  0.],\n",
       "        [28.,  1.,  1., ...,  0.,  0.,  0.],\n",
       "        ...,\n",
       "        [21.,  1.,  0., ...,  0.,  0.,  1.],\n",
       "        [46.,  1.,  0., ...,  0.,  0.,  0.],\n",
       "        [ 3.,  0.,  1., ...,  0.,  0.,  0.]], shape=(5000, 17)),\n",
       " array([0, 1, 0, ..., 0, 0, 0], shape=(5000,)))"
      ]
     },
     "execution_count": 63,
     "metadata": {},
     "output_type": "execute_result"
    }
   ],
   "source": [
    "x_features, y_class"
   ]
  },
  {
   "cell_type": "code",
   "execution_count": 51,
   "metadata": {},
   "outputs": [],
   "source": [
    "from sklearn.model_selection import train_test_split\n",
    "import matplotlib.pyplot as plt\n",
    "import seaborn as sn\n",
    "from sklearn.metrics import accuracy_score, confusion_matrix, roc_curve, roc_auc_score, classification_report"
   ]
  },
  {
   "cell_type": "code",
   "execution_count": 52,
   "metadata": {},
   "outputs": [
    {
     "data": {
      "text/plain": [
       "((3750, 17), (3750,), (1250, 17), (1250,))"
      ]
     },
     "execution_count": 52,
     "metadata": {},
     "output_type": "execute_result"
    }
   ],
   "source": [
    "x_train, x_test, y_train, y_test = train_test_split(x_features, y_class, test_size=0.25)\n",
    "x_train.shape, y_train.shape, x_test.shape, y_test.shape"
   ]
  },
  {
   "cell_type": "markdown",
   "metadata": {},
   "source": [
    "### 4. Treinamento dos Modelos:"
   ]
  },
  {
   "cell_type": "code",
   "execution_count": 54,
   "metadata": {},
   "outputs": [],
   "source": [
    "from sklearn.ensemble import RandomForestClassifier\n",
    "from sklearn.naive_bayes import GaussianNB\n",
    "from sklearn.linear_model import LogisticRegressionCV"
   ]
  },
  {
   "cell_type": "code",
   "execution_count": 55,
   "metadata": {},
   "outputs": [],
   "source": [
    "model_naive = GaussianNB()\n",
    "model_naive.fit(x_train, y_train)\n",
    "predict_naive = model_naive.predict(x_test)"
   ]
  },
  {
   "cell_type": "code",
   "execution_count": 57,
   "metadata": {},
   "outputs": [],
   "source": [
    "model_random = RandomForestClassifier(random_state=42)\n",
    "model_random.fit(x_train, y_train)\n",
    "predict_random = model_random.predict(x_test)"
   ]
  },
  {
   "cell_type": "code",
   "execution_count": 59,
   "metadata": {},
   "outputs": [],
   "source": [
    "model_logistic = LogisticRegressionCV(random_state=42)\n",
    "model_logistic.fit(x_train, y_train)\n",
    "predict_logistic = model_logistic.predict(x_test)"
   ]
  },
  {
   "cell_type": "markdown",
   "metadata": {},
   "source": [
    "### 5. Otimização dos Modelos:"
   ]
  },
  {
   "cell_type": "code",
   "execution_count": 53,
   "metadata": {},
   "outputs": [],
   "source": [
    "def PerformanceMetrics(y_true, predict, class_name):\n",
    "    import matplotlib.pyplot as plt\n",
    "    import seaborn as sn\n",
    "    from sklearn.metrics import accuracy_score, confusion_matrix, roc_curve, roc_auc_score, classification_report\n",
    "    \n",
    "\n",
    "    # Imprime Matriz de Confusão:\n",
    "    confusion_matrix_df = pd.DataFrame(\n",
    "        confusion_matrix(y_true, predict), \n",
    "        index=class_name, \n",
    "        columns=class_name\n",
    "    )\n",
    "\n",
    "    plt.figure(figsize=(5,3))\n",
    "    sn.set_theme(font_scale=0.9)\n",
    "    sn.heatmap(confusion_matrix_df, annot=True, fmt=\"d\", cmap=\"Blues\", cbar=False)\n",
    "\n",
    "\n",
    "    # Imprime a Acurácia:\n",
    "    print(f\"A acurácia geral do modelo em relação a todos os dados foi de aproximadamente {accuracy_score(y_true, predict) * 100:.2f}%.\")\n",
    "    for i, label in enumerate(class_name):\n",
    "        print(f\"O modelo identificou corretamente {confusion_matrix_df.values[i][i]} registros com o rótulo '{label}'.\")\n",
    "\n",
    "    \n",
    "    # Imprime Gráfico da Curva ROC\n",
    "    fpr, tpr, thresholds = roc_curve(y_true, predict)\n",
    "    auc = roc_auc_score(y_true, predict)\n",
    "    plt.figure(figsize=(5,3))\n",
    "\n",
    "    plt.plot(fpr, tpr, label=f'AUC = {auc:.2f}', color='blue')\n",
    "    plt.plot([0, 1], [0, 1], linestyle='--', color='gray')  \n",
    "    \n",
    "    plt.xlabel('Taxa de Falsos Positivos (FPR)', fontsize=12)\n",
    "    plt.ylabel('Taxa de Verdadeiros Positivos (TPR)', fontsize=12)\n",
    "    plt.title('Curva ROC', fontsize=14)\n",
    "    plt.legend(loc='lower right')\n",
    "    plt.grid()\n",
    "    plt.show()\n",
    "\n",
    "    print(classification_report(y_true, predict))"
   ]
  },
  {
   "cell_type": "code",
   "execution_count": 56,
   "metadata": {},
   "outputs": [
    {
     "name": "stdout",
     "output_type": "stream",
     "text": [
      "A acurácia geral do modelo em relação a todos os dados foi de aproximadamente 86.72%.\n",
      "O modelo identificou corretamente 617 registros com o rótulo 'NO'.\n",
      "O modelo identificou corretamente 467 registros com o rótulo 'YES'.\n"
     ]
    },
    {
     "data": {
      "image/png": "[encoded data removed]",
      "text/plain": [
       "<Figure size 500x300 with 1 Axes>"
      ]
     },
     "metadata": {},
     "output_type": "display_data"
    },
    {
     "data": {
      "image/png": "[encoded data removed]",
      "text/plain": [
       "<Figure size 500x300 with 1 Axes>"
      ]
     },
     "metadata": {},
     "output_type": "display_data"
    },
    {
     "name": "stdout",
     "output_type": "stream",
     "text": [
      "              precision    recall  f1-score   support\n",
      "\n",
      "           0       0.91      0.86      0.88       721\n",
      "           1       0.82      0.88      0.85       529\n",
      "\n",
      "    accuracy                           0.87      1250\n",
      "   macro avg       0.86      0.87      0.87      1250\n",
      "weighted avg       0.87      0.87      0.87      1250\n",
      "\n"
     ]
    }
   ],
   "source": [
    "PerformanceMetrics(y_test, predict_naive, ['NO', 'YES'])"
   ]
  },
  {
   "cell_type": "code",
   "execution_count": 58,
   "metadata": {},
   "outputs": [
    {
     "name": "stdout",
     "output_type": "stream",
     "text": [
      "A acurácia geral do modelo em relação a todos os dados foi de aproximadamente 89.92%.\n",
      "O modelo identificou corretamente 664 registros com o rótulo 'NO'.\n",
      "O modelo identificou corretamente 460 registros com o rótulo 'YES'.\n"
     ]
    },
    {
     "data": {
      "image/png": "[encoded data removed]",
      "text/plain": [
       "<Figure size 500x300 with 1 Axes>"
      ]
     },
     "metadata": {},
     "output_type": "display_data"
    },
    {
     "data": {
      "image/png": "[encoded data removed]",
      "text/plain": [
       "<Figure size 500x300 with 1 Axes>"
      ]
     },
     "metadata": {},
     "output_type": "display_data"
    },
    {
     "name": "stdout",
     "output_type": "stream",
     "text": [
      "              precision    recall  f1-score   support\n",
      "\n",
      "           0       0.91      0.92      0.91       721\n",
      "           1       0.89      0.87      0.88       529\n",
      "\n",
      "    accuracy                           0.90      1250\n",
      "   macro avg       0.90      0.90      0.90      1250\n",
      "weighted avg       0.90      0.90      0.90      1250\n",
      "\n"
     ]
    }
   ],
   "source": [
    "PerformanceMetrics(y_test, predict_random, ['NO', 'YES'])"
   ]
  },
  {
   "cell_type": "code",
   "execution_count": 60,
   "metadata": {},
   "outputs": [
    {
     "name": "stdout",
     "output_type": "stream",
     "text": [
      "A acurácia geral do modelo em relação a todos os dados foi de aproximadamente 90.72%.\n",
      "O modelo identificou corretamente 660 registros com o rótulo 'NO'.\n",
      "O modelo identificou corretamente 474 registros com o rótulo 'YES'.\n"
     ]
    },
    {
     "data": {
      "image/png": "[encoded data removed]",
      "text/plain": [
       "<Figure size 500x300 with 1 Axes>"
      ]
     },
     "metadata": {},
     "output_type": "display_data"
    },
    {
     "data": {
      "image/png": "[encoded data removed]",
      "text/plain": [
       "<Figure size 500x300 with 1 Axes>"
      ]
     },
     "metadata": {},
     "output_type": "display_data"
    },
    {
     "name": "stdout",
     "output_type": "stream",
     "text": [
      "              precision    recall  f1-score   support\n",
      "\n",
      "           0       0.92      0.92      0.92       721\n",
      "           1       0.89      0.90      0.89       529\n",
      "\n",
      "    accuracy                           0.91      1250\n",
      "   macro avg       0.90      0.91      0.91      1250\n",
      "weighted avg       0.91      0.91      0.91      1250\n",
      "\n"
     ]
    }
   ],
   "source": [
    "PerformanceMetrics(y_test, predict_logistic, ['NO', 'YES'])"
   ]
  }
 ],
 "metadata": {
  "kernelspec": {
   "display_name": "venv",
   "language": "python",
   "name": "python3"
  },
  "language_info": {
   "codemirror_mode": {
    "name": "ipython",
    "version": 3
   },
   "file_extension": ".py",
   "mimetype": "text/x-python",
   "name": "python",
   "nbconvert_exporter": "python",
   "pygments_lexer": "ipython3",
   "version": "3.12.7"
  }
 },
 "nbformat": 4,
 "nbformat_minor": 2
}
